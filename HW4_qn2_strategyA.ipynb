{
 "cells": [
  {
   "cell_type": "markdown",
   "metadata": {},
   "source": [
    "# CSE327 Homework 4\n",
    "**Due date: 11:59 pm on Nov. 30, 2017 (Thursday)**\n",
    "\n",
    "## Description\n",
    "---\n",
    "This project is an introduction to deep learning tools for computer vision. You will design and train deep convolutional networks for scene recognition using [PyTorch](http://pytorch.org).\n",
    "\n",
    "![VGG Model](https://www.cc.gatech.edu/~hays/compvision2016/proj6/deepNetVis.png \"VGG_Model\")\n",
    "\n",
    "<center>Figure 1: AlexNet / VGG-F network visualized by [mNeuron](http://vision03.csail.mit.edu/cnn_art/index.html).</center>\n",
    "\n",
    "Remember Homework 3: Scene recognition with bag of words. You worked hard to design a bag of features representations that achieved 60% to 70% accuracy (most likely) on 15-way scene classification. You might have done the spatial pyramid extra credit and gotten up to nearly 80% accuracy. We're going to attack the same task with deep learning and get higher accuracy. Training from scratch won't work quite as well as homework 3 due to the insufficient amount of data, fine-tuning an existing network will work much better than homework 3.\n",
    "\n",
    "In Problem 1 of the project you will train a deep convolutional network from scratch to recognize scenes. The starter code gives you a very simple network architecture which doesn't work that well and you will add jittering, normalization, regularization, and more layers to increase recognition accuracy to 50, 60, or perhaps 70%. Unfortunately, we only have 1,500 training examples so it doesn't seem possible to train a network from scratch which outperforms hand-crafted features\n",
    "\n",
    "For Problem 2 you will instead fine-tune a pre-trained deep network to achieve about 85% accuracy on the task. We will use the pretrained AlexNet network (see Figure 1) which was not trained to recognize scenes at all. \n",
    "\n",
    "These two approaches represent the most common approaches to recognition problems in computer vision today -- train a deep network from scratch if you have enough data (it's not always obvious whether or not you do), and if you cannot then instead fine-tune a pre-trained network.\n",
    "\n",
    "## Dataset\n",
    "---\n",
    "![Dataset Examples](https://www.cc.gatech.edu/~hays/compvision/proj4/categories.png \"Example scenes from of each category in the 15 scene dataset. Figure from Lazebnik et al. 2006.\")\n",
    "You will using the same dataset in homework 3. The dataset contains 100 images from each category (i.e. 1500 training examples total and 1500 test cases total).  Download the dataset [here](https://drive.google.com/a/cs.stonybrook.edu/file/d/0B446EB1iI6_Qc0Q1NTRTajdUVTg/view?usp=sharing).\n",
    "\n",
    "## Some Tutorials (PyTorch)\n",
    "---\n",
    "- You will be using PyTorch for deep learning toolbox (follow the [link](http://pytorch.org) for installation).\n",
    "- For PyTorch beginners, please read this [tutorial](http://pytorch.org/tutorials/beginner/deep_learning_60min_blitz.html) before doing your homework.\n",
    "- Feel free to study more tutorials at http://pytorch.org/tutorials/.\n",
    "- Find cool visualization here at http://playground.tensorflow.org.\n",
    "\n",
    "## Starter Code\n",
    "---\n",
    "In the starter code, I provide you with a function that load data into minibatches for training and testing in PyTorch."
   ]
  },
  {
   "cell_type": "code",
   "execution_count": 267,
   "metadata": {
    "scrolled": true
   },
   "outputs": [
    {
     "name": "stdout",
     "output_type": "stream",
     "text": [
      "OpenCV version = 3.3.0\n"
     ]
    }
   ],
   "source": [
    "# import packages here\n",
    "import cv2\n",
    "import numpy as np\n",
    "import matplotlib.pyplot as plt\n",
    "import glob\n",
    "import random \n",
    "\n",
    "import torch\n",
    "import torchvision #had to install it separately\n",
    "import torchvision.transforms as transforms\n",
    "\n",
    "from torch.autograd import Variable #let our network automatically implement back propogation\n",
    "import torch.nn as nn\n",
    "import torch.nn.functional as F\n",
    "\n",
    "import torch.optim as optim\n",
    "\n",
    "print ('OpenCV version = ' + cv2.__version__)\n",
    "\n",
    "import torchvision.models as models # to import pre-trained models\n",
    "\n",
    "import itertools\n",
    "from sklearn.metrics import confusion_matrix\n",
    "\n",
    "import time\n",
    "\n",
    "from sklearn import svm"
   ]
  },
  {
   "cell_type": "code",
   "execution_count": 3,
   "metadata": {
    "collapsed": true
   },
   "outputs": [],
   "source": [
    "# just something for the confusion matrix\n",
    "def plot_confusion_matrix(cm, classes,\n",
    "                          normalize=False,\n",
    "                          title='Confusion matrix',\n",
    "                          cmap=plt.cm.Blues):\n",
    "    \"\"\"\n",
    "    This function prints and plots the confusion matrix.\n",
    "    Normalization can be applied by setting `normalize=True`.\n",
    "    \"\"\"\n",
    "    if normalize:\n",
    "        cm = cm.astype('float') / cm.sum(axis=1)[:, np.newaxis]\n",
    "#         print(\"Normalized confusion matrix\")\n",
    "#     else:\n",
    "#         print('Confusion matrix, without normalization')\n",
    "#     print(cm) # uncomment if you want to print like normal data\n",
    "    \n",
    "    plt.figure(figsize=(10, 10))\n",
    "    plt.imshow(cm, interpolation='nearest', cmap=cmap)\n",
    "    plt.title(title)\n",
    "    plt.colorbar()\n",
    "    tick_marks = np.arange(len(classes))\n",
    "    plt.xticks(tick_marks, classes, rotation=45)\n",
    "    plt.yticks(tick_marks, classes)\n",
    "\n",
    "    fmt = '.2f' if normalize else 'd'\n",
    "    thresh = cm.max() / 2.\n",
    "    for i, j in itertools.product(range(cm.shape[0]), range(cm.shape[1])):\n",
    "        plt.text(j, i, format(cm[i, j], fmt),\n",
    "                 horizontalalignment=\"center\",\n",
    "                 color=\"white\" if cm[i, j] > thresh else \"black\")\n",
    "\n",
    "    plt.tight_layout()\n",
    "    plt.ylabel('True label')\n",
    "    plt.xlabel('Predicted label')"
   ]
  },
  {
   "cell_type": "code",
   "execution_count": 4,
   "metadata": {
    "collapsed": true
   },
   "outputs": [],
   "source": [
    "# function to just plot both normalizes and normal matrix\n",
    "def print_confusion_matrix(test_label, predictions):\n",
    "    # Compute confusion matrix\n",
    "    cnf_matrix = confusion_matrix(test_label, predictions)\n",
    "    np.set_printoptions(precision=2)\n",
    "\n",
    "    # Plot non-normalized confusion matrix\n",
    "    plt.figure()\n",
    "    plot_confusion_matrix(cnf_matrix, classes=class_names,\n",
    "                          title='Confusion matrix, without normalization')\n",
    "\n",
    "    # Plot normalized confusion matrix\n",
    "    plt.figure()\n",
    "    plot_confusion_matrix(cnf_matrix, classes=class_names, normalize=True,\n",
    "                          title='Normalized confusion matrix')\n",
    "\n",
    "    plt.show()"
   ]
  },
  {
   "cell_type": "code",
   "execution_count": 2,
   "metadata": {
    "collapsed": true
   },
   "outputs": [],
   "source": [
    "#function to mirror an image\n",
    "#takes and input image and flips it horizontally\n",
    "def img_mirror(img):\n",
    "    #write code to mirror\n",
    "    height, width = img.shape\n",
    "    bi_img = np.zeros((height, width), dtype=np.uint16)\n",
    "    for i in range(0,height):\n",
    "        bi_img[i][:] = img [i][::-1]\n",
    "    return bi_img"
   ]
  },
  {
   "cell_type": "code",
   "execution_count": 5,
   "metadata": {
    "collapsed": true
   },
   "outputs": [],
   "source": [
    "def img_norm(img):\n",
    "    return np.float32(img) / 255 # normalize img pixels to [0, 1] [-1,1]\n",
    "    #we can also do the following\n",
    "    #return (np.float32(img)/255-0.5)*2"
   ]
  },
  {
   "cell_type": "code",
   "execution_count": null,
   "metadata": {
    "collapsed": true
   },
   "outputs": [],
   "source": [
    "def img_norm(img):\n",
    "    #return np.float32(img) / 255 # normalize img pixels to [0, 1] [-1,1]\n",
    "    #we can also do the following\n",
    "    return (np.float32(img)/255-0.5)*2"
   ]
  },
  {
   "cell_type": "code",
   "execution_count": 6,
   "metadata": {
    "collapsed": true
   },
   "outputs": [],
   "source": [
    "#changes the brightness of the image\n",
    "def img_brightness(img, bright=0):\n",
    "    height, width = img.shape\n",
    "    bi_img = np.zeros((height, width), dtype=np.uint16)\n",
    "    #when it is negative\n",
    "    if (bright < 0):\n",
    "        for i in range(0,height): #if the number becomes less than 0, change it to 0 \n",
    "            bi_img  [i][:] = [( 0 if ((img[i][j] + bright)<0) else (img[i][j] + bright)) for j in range(0,width)]\n",
    "    else: #when it is positive \n",
    "        for i in range(0,height): #if the number becomes more than 255, change it to 255\n",
    "            bi_img  [i][:] = [( 255 if ((img[i][j] + bright)>=255) else (img[i][j]+ bright)) for j in range(0,width)]      \n",
    "    return bi_img"
   ]
  },
  {
   "cell_type": "code",
   "execution_count": 7,
   "metadata": {
    "collapsed": true
   },
   "outputs": [],
   "source": [
    "# show some images\n",
    "def imshow(img):\n",
    "    npimg = img.numpy()\n",
    "    if len(npimg.shape) > 2:\n",
    "        npimg = np.transpose(img, [1, 2, 0])\n",
    "    plt.figure\n",
    "    plt.imshow(npimg, 'gray')\n",
    "    plt.show()"
   ]
  },
  {
   "cell_type": "code",
   "execution_count": 8,
   "metadata": {
    "collapsed": true
   },
   "outputs": [],
   "source": [
    "#rotates a given image by a given angle\n",
    "def img_rotate(img, angle=0):\n",
    "    rows, cols = img.shape #getting the height and width of the image\n",
    "    #finding the rotation matrix w.r.t. rotation point being the center of the image\n",
    "    M = cv2.getRotationMatrix2D((cols/2,rows/2),angle,1)\n",
    "    warp_img = cv2.warpAffine(img, M, (cols,rows)) #warping the image\n",
    "    return warp_img"
   ]
  },
  {
   "cell_type": "code",
   "execution_count": 10,
   "metadata": {
    "scrolled": true
   },
   "outputs": [
    {
     "name": "stdout",
     "output_type": "stream",
     "text": [
      "{0: 'Bedroom', 1: 'Coast', 2: 'Forest', 3: 'Highway', 4: 'Industrial', 5: 'InsideCity', 6: 'Kitchen', 7: 'LivingRoom', 8: 'Mountain', 9: 'Office', 10: 'OpenCountry', 11: 'Store', 12: 'Street', 13: 'Suburb', 14: 'TallBuilding'}\n"
     ]
    }
   ],
   "source": [
    "# ==========================================\n",
    "#    Load Training Data and Testing Data\n",
    "# ==========================================\n",
    "\n",
    "class_names = [name[18:] for name in glob.glob('../HW3/data/train/*')]\n",
    "class_names = dict(zip(range(len(class_names)), class_names))\n",
    "print (class_names) #python2to3modification\n",
    "\n",
    "def load_dataset(path, img_size, num_per_class=-1, batch_num=1, shuffle=False, augment=False, is_color=False):\n",
    "    \n",
    "    data = []\n",
    "    labels = []\n",
    "    \n",
    "    if is_color:\n",
    "        channel_num = 3\n",
    "    else:\n",
    "        channel_num = 1\n",
    "        \n",
    "    if (augment):\n",
    "        times = 2 #original + mirroring\n",
    "        # brighness increase by 100 + brighness decrease by 100\n",
    "    else:\n",
    "        times = 1\n",
    "    # read images and resizing\n",
    "    #for id, class_name in class_names.iteritems():  #python2to3modification\n",
    "    for id, class_name in class_names.items():\n",
    "        img_path_class = glob.glob(path + class_name + '/*.jpg')\n",
    "        if num_per_class > 0:\n",
    "            img_path_class = img_path_class[:num_per_class]\n",
    "        \n",
    "            \n",
    "        labels.extend([id]*len(img_path_class)*times) #merging 2 list together #adding the other list to the function\n",
    "        for filename in img_path_class:\n",
    "            if is_color:\n",
    "                img = cv2.imread(filename)\n",
    "            else:\n",
    "                img = cv2.imread(filename, 0)\n",
    "            \n",
    "            # resize the image\n",
    "            img = cv2.resize(img, img_size, cv2.INTER_LINEAR)\n",
    "            \n",
    "            if is_color:\n",
    "                img = np.transpose(img, [2, 0, 1])\n",
    "            \n",
    "            # norm pixel values to [0, 1]\n",
    "            data.append(img_norm(img))\n",
    "            \n",
    "            if augment: # data augmentation\n",
    "                data.append(cv2.flip(img,1)) #cv2's implementation for mirroring\n",
    "                #data.append(img_mirror(img)) # my implementation for mirroring\n",
    "                #data.append(img_brightness(img, 100))\n",
    "                #data.append(img_brightness(img, -50))\n",
    "                #data.append(img_rotate(img, 10))\n",
    "            \n",
    "    # randomly permute (this step is important for training)\n",
    "    if shuffle:\n",
    "        #bundle = zip(data, labels)  #python2to3modification\n",
    "        bundle = list(zip(data, labels))\n",
    "        #bundle = torch.FloatTensor(data, labels)\n",
    "        random.shuffle(bundle)\n",
    "        #data, labels = torch.FloatTensor(*bundle)\n",
    "        data, labels = list(zip(*bundle))  #python2to3modification\n",
    "    \n",
    "    # divide data into minibatches of TorchTensors\n",
    "    if batch_num > 1:\n",
    "        batch_data = []\n",
    "        batch_labels = []\n",
    "        for i in range(int(len(data) / batch_num)): #python2to3modification xrange vs range\n",
    "            minibatch_d = data[i*batch_num: (i+1)*batch_num]\n",
    "            minibatch_d = np.reshape(minibatch_d, (batch_num, channel_num, img_size[0], img_size[1]))\n",
    "            batch_data.append(torch.from_numpy(minibatch_d))\n",
    "\n",
    "            minibatch_l = labels[i*batch_num: (i+1)*batch_num]\n",
    "            batch_labels.append(torch.LongTensor(minibatch_l))\n",
    "        data, labels = batch_data, batch_labels \n",
    "    \n",
    "    return list(zip(batch_data, batch_labels))\n",
    "    #return zip(batch_data, batch_labels) #python2to3modification"
   ]
  },
  {
   "cell_type": "code",
   "execution_count": 11,
   "metadata": {},
   "outputs": [
    {
     "name": "stdout",
     "output_type": "stream",
     "text": [
      "Finish loading 30 minibatches(=50) of training samples.\n",
      "Finish loading 30 minibatches(=50) of testing samples.\n"
     ]
    }
   ],
   "source": [
    "img_size = (224, 224)\n",
    "batch_num = 50 # training sample number per batch \n",
    "\n",
    "# load training dataset\n",
    "trainloader_small = load_dataset('../HW3/data/train/', img_size, batch_num=batch_num, shuffle=False, augment=False, is_color=True)\n",
    "train_num = len(trainloader_small)\n",
    "print (\"Finish loading %d minibatches(=%d) of training samples.\" % (train_num, batch_num))\n",
    "\n",
    "# load testing dataset\n",
    "testloader_small = load_dataset('../HW3/data/test/', img_size, num_per_class=100, batch_num=batch_num, shuffle=False, augment=False, is_color=True)\n",
    "test_num = len(testloader_small)\n",
    "print (\"Finish loading %d minibatches(=%d) of testing samples.\" % (test_num, batch_num))"
   ]
  },
  {
   "cell_type": "code",
   "execution_count": 357,
   "metadata": {},
   "outputs": [
    {
     "name": "stdout",
     "output_type": "stream",
     "text": [
      "Finish loading 30 minibatches(=50) of training samples.\n",
      "Finish loading 30 minibatches(=50) of testing samples.\n"
     ]
    }
   ],
   "source": [
    "# load data into size (64, 64)\n",
    "\n",
    "img_size = (64, 64)\n",
    "batch_num = 50 # training sample number per batch \n",
    "\n",
    "# load training dataset\n",
    "trainloader_small2 = load_dataset('../HW3/data/train/', img_size, batch_num=batch_num, shuffle=True, augment=False, is_color=False)\n",
    "train_num = len(trainloader_small)\n",
    "print (\"Finish loading %d minibatches(=%d) of training samples.\" % (train_num, batch_num))\n",
    "\n",
    "# load testing dataset\n",
    "testloader_small2 = load_dataset('../HW3/data/test/', img_size, num_per_class=100, batch_num=batch_num, shuffle=False, augment=False, is_color=False)\n",
    "test_num = len(testloader_small)\n",
    "print (\"Finish loading %d minibatches(=%d) of testing samples.\" % (test_num, batch_num))"
   ]
  },
  {
   "cell_type": "markdown",
   "metadata": {},
   "source": [
    "Below we visualize one training sample:"
   ]
  },
  {
   "cell_type": "markdown",
   "metadata": {},
   "source": [
    "## Problem 1: Training a Network From Scratch\n",
    "{50 points} Gone are the days of hand designed features. Now we have end-to-end learning in which a highly non-linear representation is learned for our data to maximize our objective (in this case, 15-way classification accuracy). You first task is to build a simple shallow neural network to do scene classification. Your network will be of the following architecture: Input layer takes in grayscale images are of size 64x64, followed by a convolutional layer of kernel size 9x9, stride 1 and 9 output channels, followed by ReLU and max pooling layer of kernel size 7x7 and stride 7, followed by a fully connected layer. After you do the training and testing, we can now recognize scenes with... around 25% accuracy. OK, that didn't work at all. Try to boost the accuracy by doing the following:\n",
    "\n",
    "**Data Augmentation**: We don't have enough training data, let's augment the training data.\n",
    "If you left-right flip (mirror) an image of a scene, it never changes categories. A kitchen doesn't become a forest when mirrored. This isn't true in all domains — a \"d\" becomes a \"b\" when mirrored, so you can't \"jitter\" digit recognition training data in the same way. But we can synthetically increase our amount of training data by left-right mirroring training images during the learning process. \n",
    "\n",
    "You can try more elaborate forms of jittering -- zooming in a random amount, rotating a random amount, taking a random crop, etc. Mirroring helps quite a bit on its own, though, and is easy to implement. You should see a roughly 10% increase in accuracy by adding mirroring. \n",
    "\n",
    "After you implement mirroring, you should notice that your training error doesn't drop as quickly. That's actually a good thing, because it means the network isn't overfitting to the 1,500 original training images as much (because it sees 3,000 training images now, although they're not as good as 3,000 truly independent samples). Because the training and test errors fall more slowly, you may need more training epochs or you may try modifying the learning rate. \n",
    "\n",
    "**Data Normalization**: The images aren't zero-centered. One simple trick which can help a lot is to subtract the mean from every image. It would arguably be more proper to only compute the mean from the training images (since the test/validation images should be strictly held out) but it won't make much of a difference. After doing this you should see another 10% or so increase in accuracy.\n",
    "\n",
    "z-score .. make the center 0\n",
    "\n",
    "**Network Regularization**: Add a dropout layer right before the last fully connected layer. If you train your network (especially for more than the default 30 epochs) you'll see that the training error can decrease to zero while the testing error hovers at 40% to 50%. The network has learned weights which can perfectly recognize the training data, but those weights don't generalize to held out test data. The best regularization would be more training data but we don't have that. Instead we will use dropout regularization.\n",
    "\n",
    "What does dropout regularization do? It randomly turns off network connections at training time to fight overfitting. This prevents a unit in one layer from relying too strongly on a single unit in the previous layer. Dropout regularization can be interpreted as simultaneously training many \"thinned\" versions of your network. At test test, all connections are restored which is analogous to taking an average prediction over all of the \"thinned\" networks. You can see a more complete discussion of dropout regularization in this [paper](https://www.cs.toronto.edu/~hinton/absps/JMLRdropout.pdf).\n",
    "\n",
    "The dropout layer has only one free parameter — the dropout rate — the proportion of connections that are randomly deleted. The default of 0.5 should be fine. Insert a dropout layer between your convolutional layers. In particular, insert it directly before your last convolutional layer. Your test accuracy should increase by another 10%. Your train accuracy should decrease much more slowly. That's to be expected — you're making life much harder for the training algorithm by cutting out connections randomly. \n",
    "\n",
    "If you increase the number of training epochs (and maybe decrease the learning rate) you should be able to achieve around 50% test accuracy.\n",
    "\n",
    "**{Bonus part: 10pts}** Try one or two tricks taught in the class to increase the accuracy of your model. Such as increasing training data by random rotating training images, try different activation functions (e.g., sigmoid) and even modify the architecture of the model. Note that too many layers can do you no good due to insufficient training data."
   ]
  },
  {
   "cell_type": "code",
   "execution_count": 381,
   "metadata": {},
   "outputs": [
    {
     "name": "stdout",
     "output_type": "stream",
     "text": [
      "Answer for this is another notebook\n"
     ]
    }
   ],
   "source": [
    "print(\"Answer for this is another notebook\")"
   ]
  },
  {
   "cell_type": "markdown",
   "metadata": {
    "collapsed": true
   },
   "source": [
    "## Problem 2: Fine Tuning a Pre-Trained Deep Network\n",
    "{50 points} Our convolutional network to this point isn't \"deep\". It has two layers with learned weights. Fortunately, the representations learned by deep convolutional networks is that they generalize surprisingly well to other recognition tasks. \n",
    "\n",
    "But how do we use an existing deep network for a new recognition task? Take, for instance,  [AlexNet](http://papers.nips.cc/paper/4824-imagenet-classification-with-deep-convolutional-neural-networks) network has 1000 units in the final layer corresponding to 1000 ImageNet categories. **Strategy A**: One could use those 1000 activation as a feature in place of a hand crafted feature such as a bag-of-features representation. You would train a classifier (typically a linear SVM) in that 1000 dimensional feature space. However, those activations are clearly very object specific and may not generalize well to new recognition tasks. It is generally better to use the activations in slightly earlier layers of the network, e.g. the 4096 activations in the last 2nd fully-connected layer. You can often get away with sub-sampling those 4096 activations considerably, e.g. taking only the first 200 activations. \n",
    "\n",
    "Alternatively, **Strategy B** is to *fine-tune* an existing network. In this scenario you take an existing network, replace the final layer (or more) with random weights, and train the entire network again with images and ground truth labels for your recognition task. You are effectively treating the pre-trained deep network as a better initialization than the random weights used when training from scratch. When you don't have enough training data to train a complex network from scratch (e.g. with the 15 scene database) this is an attractive option. Fine-tuning can work far better than Strategy A of taking the activations directly from an pre-trained CNN. For example, in [this paper](http://www.cc.gatech.edu/~hays/papers/deep_geo.pdf) from CVPR 2015, there wasn't enough data to train a deep network from scratch, but fine tuning led to 4 times higher accuracy than using off-the-shelf networks directly.\n",
    "\n",
    "You are required to implement Strategy B to fine-tune a pre-trained AlexNet for this scene classification task. You should be able to achieve performance of 85% approximately. It takes roughly 35~40 minutes to train 20 epoches with AlexNet.\n",
    "\n",
    "**{Bonus part: 15pts}** Implement Strategy A where you use the activations of the pre-trained network as features to train one-vs-all SVMs for your scene classification task. \n",
    "\n",
    "**Hints**:\n",
    "- Many pre-trained models are available in PyTorch at [here](http://pytorch.org/docs/master/torchvision/models.html).\n",
    "- For fine-tuning pretrained network using PyTorch, please read this [tutorial](http://pytorch.org/tutorials/beginner/transfer_learning_tutorial.html).\n",
    "- You could also try pre-trained models other than AlexNet, VGG-16 for example, as long as there is enough memory in your computer (not mine!).\n",
    "- Please resize all images to size 224x224 to use AlexNet or VGG."
   ]
  },
  {
   "cell_type": "markdown",
   "metadata": {},
   "source": [
    "## Using Strategy B:"
   ]
  },
  {
   "cell_type": "code",
   "execution_count": 382,
   "metadata": {},
   "outputs": [
    {
     "name": "stdout",
     "output_type": "stream",
     "text": [
      "Answer for this is another notebook\n"
     ]
    }
   ],
   "source": [
    "print(\"Answer for this is another notebook\")"
   ]
  },
  {
   "cell_type": "markdown",
   "metadata": {},
   "source": [
    "## Using Strategy A:"
   ]
  },
  {
   "cell_type": "code",
   "execution_count": 263,
   "metadata": {
    "collapsed": true
   },
   "outputs": [],
   "source": [
    "alexnet_svm = models.alexnet(pretrained=True)"
   ]
  },
  {
   "cell_type": "code",
   "execution_count": 264,
   "metadata": {
    "collapsed": true
   },
   "outputs": [],
   "source": [
    "def change_classifier(classifier, position, subsample_size):\n",
    "    temp_clas = list(classifier)\n",
    "    temp_clas = temp_clas[0:position]\n",
    "    temp_clas = nn.Sequential(*temp_clas)\n",
    "    return temp_clas"
   ]
  },
  {
   "cell_type": "code",
   "execution_count": 265,
   "metadata": {},
   "outputs": [
    {
     "name": "stdout",
     "output_type": "stream",
     "text": [
      "AlexNet (\n",
      "  (features): Sequential (\n",
      "    (0): Conv2d(3, 64, kernel_size=(11, 11), stride=(4, 4), padding=(2, 2))\n",
      "    (1): ReLU (inplace)\n",
      "    (2): MaxPool2d (size=(3, 3), stride=(2, 2), dilation=(1, 1))\n",
      "    (3): Conv2d(64, 192, kernel_size=(5, 5), stride=(1, 1), padding=(2, 2))\n",
      "    (4): ReLU (inplace)\n",
      "    (5): MaxPool2d (size=(3, 3), stride=(2, 2), dilation=(1, 1))\n",
      "    (6): Conv2d(192, 384, kernel_size=(3, 3), stride=(1, 1), padding=(1, 1))\n",
      "    (7): ReLU (inplace)\n",
      "    (8): Conv2d(384, 256, kernel_size=(3, 3), stride=(1, 1), padding=(1, 1))\n",
      "    (9): ReLU (inplace)\n",
      "    (10): Conv2d(256, 256, kernel_size=(3, 3), stride=(1, 1), padding=(1, 1))\n",
      "    (11): ReLU (inplace)\n",
      "    (12): MaxPool2d (size=(3, 3), stride=(2, 2), dilation=(1, 1))\n",
      "  )\n",
      "  (classifier): Sequential (\n",
      "    (0): Dropout (p = 0.5)\n",
      "    (1): Linear (9216 -> 4096)\n",
      "    (2): ReLU (inplace)\n",
      "    (3): Dropout (p = 0.5)\n",
      "    (4): Linear (4096 -> 4096)\n",
      "    (5): ReLU (inplace)\n",
      "    (6): Linear (4096 -> 1000)\n",
      "  )\n",
      ")\n"
     ]
    }
   ],
   "source": [
    "print (alexnet_svm)"
   ]
  },
  {
   "cell_type": "code",
   "execution_count": 239,
   "metadata": {},
   "outputs": [
    {
     "name": "stdout",
     "output_type": "stream",
     "text": [
      "Sequential (\n",
      "  (0): Dropout (p = 0.5)\n",
      "  (1): Linear (9216 -> 4096)\n",
      "  (2): ReLU (inplace)\n",
      "  (3): Dropout (p = 0.5)\n",
      "  (4): Linear (4096 -> 4096)\n",
      "  (5): ReLU (inplace)\n",
      "  (6): Linear (4096 -> 1000)\n",
      ")\n",
      "Sequential (\n",
      "  (0): Dropout (p = 0.5)\n",
      "  (1): Linear (9216 -> 4096)\n",
      "  (2): ReLU (inplace)\n",
      "  (3): Dropout (p = 0.5)\n",
      "  (4): Linear (4096 -> 4096)\n",
      "  (5): ReLU (inplace)\n",
      ")\n"
     ]
    }
   ],
   "source": [
    "print (alexnet_svm.classifier)\n",
    "#here i just removed the last linear layer\n",
    "alexnet_svm.classifier = change_classifier(alexnet_svm.classifier, 6,200)\n",
    "print (alexnet_svm.classifier)"
   ]
  },
  {
   "cell_type": "code",
   "execution_count": 348,
   "metadata": {},
   "outputs": [],
   "source": [
    "#this method only takes the first 200 activation\n",
    "def get_img_hist(img):\n",
    "    activation = (img[0:200]) #only taking first 200\n",
    "    sum_activation = np.sum(np.array(activation))\n",
    "    normalized_activation = [x/sum_activation for x in activation]\n",
    "    ans = [out.data.numpy()[0] for out in normalized_activation]\n",
    "    # here I made a normalised histogram for each output of image\n",
    "    # But i think I dont have to normalise it \n",
    "    # and I should have just returned the respective activations \n",
    "    return ans"
   ]
  },
  {
   "cell_type": "code",
   "execution_count": 350,
   "metadata": {},
   "outputs": [
    {
     "name": "stdout",
     "output_type": "stream",
     "text": [
      "Batch: 0\n",
      "Batch: 1\n",
      "Batch: 2\n",
      "Batch: 3\n",
      "Batch: 4\n",
      "Batch: 5\n",
      "Batch: 6\n",
      "Batch: 7\n",
      "Batch: 8\n",
      "Batch: 9\n",
      "Batch: 10\n",
      "Batch: 11\n",
      "Batch: 12\n",
      "Batch: 13\n",
      "Batch: 14\n",
      "Batch: 15\n",
      "Batch: 16\n",
      "Batch: 17\n",
      "Batch: 18\n",
      "Batch: 19\n",
      "Batch: 20\n",
      "Batch: 21\n",
      "Batch: 22\n",
      "Batch: 23\n",
      "Batch: 24\n",
      "Batch: 25\n",
      "Batch: 26\n",
      "Batch: 27\n",
      "Batch: 28\n",
      "Batch: 29\n"
     ]
    }
   ],
   "source": [
    "total = 0\n",
    "actual_labels_svm = []\n",
    "\n",
    "all_hist_train = []\n",
    "i = 0\n",
    "for data in trainloader_small:\n",
    "    print (\"Batch: \" + str (i))\n",
    "    i+=1\n",
    "    images, labels = data\n",
    "    outputs = alexnet_svm(Variable(images))\n",
    "    total += labels.size(0)\n",
    "    actual_labels_svm.append(labels)\n",
    "    for each in outputs:\n",
    "        all_hist_train.append(get_img_hist(each))"
   ]
  },
  {
   "cell_type": "code",
   "execution_count": 356,
   "metadata": {},
   "outputs": [
    {
     "name": "stdout",
     "output_type": "stream",
     "text": [
      "Batch: 0\n",
      "Batch: 1\n",
      "Batch: 2\n",
      "Batch: 3\n",
      "Batch: 4\n",
      "Batch: 5\n",
      "Batch: 6\n",
      "Batch: 7\n",
      "Batch: 8\n",
      "Batch: 9\n",
      "Batch: 10\n",
      "Batch: 11\n",
      "Batch: 12\n",
      "Batch: 13\n",
      "Batch: 14\n",
      "Batch: 15\n",
      "Batch: 16\n",
      "Batch: 17\n",
      "Batch: 18\n",
      "Batch: 19\n",
      "Batch: 20\n",
      "Batch: 21\n",
      "Batch: 22\n",
      "Batch: 23\n",
      "Batch: 24\n",
      "Batch: 25\n",
      "Batch: 26\n",
      "Batch: 27\n",
      "Batch: 28\n",
      "Batch: 29\n"
     ]
    }
   ],
   "source": [
    "test_actual_labels_svm = []\n",
    "predicted_labels_svm = []\n",
    "\n",
    "all_hist_test = []\n",
    "i = 0\n",
    "for data in testloader_small:\n",
    "    print (\"Batch: \" + str (i))\n",
    "    i+=1\n",
    "    images, labels = data\n",
    "    outputs = alexnet_svm(Variable(images))\n",
    "    test_actual_labels_svm.append(labels)\n",
    "    for each in outputs:\n",
    "        all_hist_test.append(get_img_hist(each))"
   ]
  },
  {
   "cell_type": "code",
   "execution_count": 358,
   "metadata": {
    "scrolled": true
   },
   "outputs": [
    {
     "name": "stdout",
     "output_type": "stream",
     "text": [
      "1500\n",
      "1500\n"
     ]
    }
   ],
   "source": [
    "print(len(all_hist_train))\n",
    "print(len(all_hist_test))"
   ]
  },
  {
   "cell_type": "code",
   "execution_count": 359,
   "metadata": {},
   "outputs": [
    {
     "name": "stdout",
     "output_type": "stream",
     "text": [
      "1500\n"
     ]
    }
   ],
   "source": [
    "train_labels_svm = []\n",
    "for item in actual_labels_svm:\n",
    "    for i in item:\n",
    "        train_labels_svm.append(i)\n",
    "print (len(train_labels_svm))"
   ]
  },
  {
   "cell_type": "code",
   "execution_count": 360,
   "metadata": {},
   "outputs": [
    {
     "name": "stdout",
     "output_type": "stream",
     "text": [
      "1500\n"
     ]
    }
   ],
   "source": [
    "test_labels_svm = []\n",
    "for item in test_actual_labels_svm:\n",
    "    for i in item:\n",
    "        test_labels_svm.append(i)\n",
    "print (len(test_labels_svm))"
   ]
  },
  {
   "cell_type": "code",
   "execution_count": 378,
   "metadata": {
    "collapsed": true
   },
   "outputs": [],
   "source": [
    "# method for getting accuracy when a train label set and test label set is passed\n",
    "def get_accuracy(actual_label, predicted_label):\n",
    "    accuracy = sum(np.array(actual_label) == predicted_label) / float(len(actual_label))\n",
    "    return accuracy"
   ]
  },
  {
   "cell_type": "code",
   "execution_count": 354,
   "metadata": {},
   "outputs": [
    {
     "name": "stdout",
     "output_type": "stream",
     "text": [
      "Training Started...\n",
      "Training Finished...\n",
      "Time Taken : 8.555662271697656\n"
     ]
    }
   ],
   "source": [
    "#classifier_svm = svm.LinearSVC(C=5)\n",
    "classifier_svm = svm.LinearSVC()\n",
    "#I got the most accuracy at C = 5\n",
    "train_svm = all_hist_train\n",
    "#test_svm = train_sift_hist_using_test\n",
    "s= time.clock()\n",
    "print (\"Training Started...\")\n",
    "classifier_svm.fit(np.array(train_svm), train_labels_svm) #fitting and training\n",
    "print (\"Training Finished...\")\n",
    "e = time.clock()\n",
    "print (\"Time Taken : \" + str(e-s))"
   ]
  },
  {
   "cell_type": "code",
   "execution_count": 362,
   "metadata": {
    "collapsed": true
   },
   "outputs": [],
   "source": [
    "test_svm = all_hist_test"
   ]
  },
  {
   "cell_type": "code",
   "execution_count": 363,
   "metadata": {},
   "outputs": [],
   "source": [
    "predicted_test_labels_svm = classifier_svm.predict(test_svm) # getting the predicted labels"
   ]
  },
  {
   "cell_type": "code",
   "execution_count": 379,
   "metadata": {},
   "outputs": [
    {
     "name": "stdout",
     "output_type": "stream",
     "text": [
      "The accuracy of my model using SVM for first 200 as a histogram using Alexnet is 56.13%\n"
     ]
    }
   ],
   "source": [
    "S = get_accuracy(test_labels_svm , predicted_test_labels_svm) # getting the accuracy\n",
    "print (\"The accuracy of my model using SVM for first 200 as a histogram using Alexnet is {:.2f}%\".format(S*100))"
   ]
  },
  {
   "cell_type": "code",
   "execution_count": 380,
   "metadata": {},
   "outputs": [
    {
     "name": "stdout",
     "output_type": "stream",
     "text": [
      "{0: 'Bedroom', 1: 'Coast', 2: 'Forest', 3: 'Highway', 4: 'Industrial', 5: 'InsideCity', 6: 'Kitchen', 7: 'LivingRoom', 8: 'Mountain', 9: 'Office', 10: 'OpenCountry', 11: 'Store', 12: 'Street', 13: 'Suburb', 14: 'TallBuilding'}\n"
     ]
    },
    {
     "data": {
      "text/plain": [
       "<matplotlib.figure.Figure at 0x1e3e8d16748>"
      ]
     },
     "metadata": {},
     "output_type": "display_data"
    },
    {
     "data": {
      "image/png": "[encoded data removed]",
      "text/plain": [
       "<matplotlib.figure.Figure at 0x1e75240fb70>"
      ]
     },
     "metadata": {},
     "output_type": "display_data"
    },
    {
     "data": {
      "text/plain": [
       "<matplotlib.figure.Figure at 0x1e54cf0a518>"
      ]
     },
     "metadata": {},
     "output_type": "display_data"
    },
    {
     "data": {
      "image/png": "[encoded data removed]",
      "text/plain": [
       "<matplotlib.figure.Figure at 0x1e8806e1e48>"
      ]
     },
     "metadata": {},
     "output_type": "display_data"
    }
   ],
   "source": [
    "print (class_names)\n",
    "print_confusion_matrix(test_labels_svm, predicted_test_labels_svm)"
   ]
  },
  {
   "cell_type": "code",
   "execution_count": null,
   "metadata": {
    "collapsed": true
   },
   "outputs": [],
   "source": []
  }
 ],
 "metadata": {
  "kernelspec": {
   "display_name": "Python 3",
   "language": "python",
   "name": "python3"
  },
  "language_info": {
   "codemirror_mode": {
    "name": "ipython",
    "version": 3
   },
   "file_extension": ".py",
   "mimetype": "text/x-python",
   "name": "python",
   "nbconvert_exporter": "python",
   "pygments_lexer": "ipython3",
   "version": "3.6.1"
  }
 },
 "nbformat": 4,
 "nbformat_minor": 2
}
